{
  "nbformat": 4,
  "nbformat_minor": 0,
  "metadata": {
    "colab": {
      "provenance": []
    },
    "kernelspec": {
      "name": "python3",
      "display_name": "Python 3"
    },
    "language_info": {
      "name": "python"
    }
  },
  "cells": [
    {
      "cell_type": "code",
      "execution_count": 5,
      "metadata": {
        "colab": {
          "base_uri": "https://localhost:8080/"
        },
        "id": "Fj3QtjlDr8XB",
        "outputId": "cec2527e-f8c8-4eb5-e829-f6a0e5fe80e7"
      },
      "outputs": [
        {
          "output_type": "stream",
          "name": "stdout",
          "text": [
            "Input: \n",
            "[[0.66666667 1.        ]\n",
            " [0.33333333 0.55555556]\n",
            " [1.         0.66666667]]\n",
            "Actual Output: \n",
            "[[0.92]\n",
            " [0.86]\n",
            " [0.89]]\n",
            "Predicted Output: \n",
            " [[0.89526104]\n",
            " [0.87867405]\n",
            " [0.89490822]]\n"
          ]
        }
      ],
      "source": [
        "import numpy as np\n",
        "\n",
        "# Define input (X) and output (Y) arrays\n",
        "X = np.array(([2, 9], [1, 5], [3, 6]), dtype=float) # two inputs [sleep, study]\n",
        "Y = np.array(([92], [86], [89]), dtype=float) # one output (Expected & in Exams)\n",
        "\n",
        "# Normalize the data\n",
        "X = X / np.amax(X, axis=0)  # maximum of X array longitudinally\n",
        "Y = Y / 100  # max test score is 100\n",
        "\n",
        "# Set parameters\n",
        "epoch = 5000\n",
        "lr = 0.1\n",
        "inputlayer_neurons = X.shape[1]  # number of features in data set\n",
        "hiddenlayer_neurons = 3  # number of hidden layer neurons\n",
        "output_neurons = 1  # number of neurons at output layer\n",
        "\n",
        "# Weight and bias initialization\n",
        "wh = np.random.uniform(size=(inputlayer_neurons, hiddenlayer_neurons))  # weights for the input layer to hidden layer\n",
        "bh = np.random.uniform(size=(1, hiddenlayer_neurons))  # bias for the hidden layer\n",
        "wout = np.random.uniform(size=(hiddenlayer_neurons, output_neurons))  # weights for the hidden layer to output layer\n",
        "bout = np.random.uniform(size=(1, output_neurons))  # bias for the output layer\n",
        "\n",
        "# Activation function\n",
        "def sigmoid(x):\n",
        "    return 1 / (1 + np.exp(-x))\n",
        "\n",
        "# Derivative of sigmoid function\n",
        "def derivatives_sigmoid(x):\n",
        "    return x * (1 - x)\n",
        "\n",
        "# Training algorithm\n",
        "for i in range(epoch):\n",
        "    # Forward Propagation\n",
        "    hinp1 = np.dot(X, wh)\n",
        "    hinp = hinp1 + bh\n",
        "    hlayer_act = sigmoid(hinp)\n",
        "    outinp1 = np.dot(hlayer_act, wout)\n",
        "    outinp = outinp1 + bout\n",
        "    output = sigmoid(outinp)\n",
        "\n",
        "    # Backpropagation\n",
        "    EO = Y - output  # error at output\n",
        "    outgrad = derivatives_sigmoid(output)\n",
        "    d_output = EO * outgrad\n",
        "    EH = d_output.dot(wout.T)  # error at hidden layer\n",
        "    hiddengrad = derivatives_sigmoid(hlayer_act)  # derivative of sigmoid function\n",
        "    d_hiddenlayer = EH * hiddengrad\n",
        "\n",
        "    # Updating weights and biases\n",
        "    wout += hlayer_act.T.dot(d_output) * lr\n",
        "    bout += np.sum(d_output, axis=0, keepdims=True) * lr\n",
        "    wh += X.T.dot(d_hiddenlayer) * lr\n",
        "    bh += np.sum(d_hiddenlayer, axis=0, keepdims=True) * lr\n",
        "\n",
        "# Output after training\n",
        "print(\"Input: \\n\" + str(X))\n",
        "print(\"Actual Output: \\n\" + str(Y))\n",
        "print(\"Predicted Output: \\n\", output)\n"
      ]
    }
  ]
}